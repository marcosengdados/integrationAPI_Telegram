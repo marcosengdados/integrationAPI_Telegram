{
  "nbformat": 4,
  "nbformat_minor": 0,
  "metadata": {
    "colab": {
      "provenance": []
    },
    "kernelspec": {
      "name": "python3",
      "display_name": "Python 3"
    },
    "language_info": {
      "name": "python"
    }
  },
  "cells": [
    {
      "cell_type": "markdown",
      "source": [
        "##**PARTE 2 - PROJETO API/TELEGRAM**##\n",
        "\n",
        "Imagine que você deseja monitorar mensagens enviadas a um grupo específico no Telegram e armazená-las de forma estruturada na nuvem. Para isso, é necessário capturar os dados em tempo real, organizá-los e processá-los de maneira eficiente. Este código implementa uma solução automatizada utilizando AWS Lambda, S3 e PyArrow para coletar, transformar e armazenar mensagens do Telegram em formato Parquet , garantindo escalabilidade e otimização no armazenamento e análise dos dados."
      ],
      "metadata": {
        "id": "pGiAPcc09OZ9"
      }
    },
    {
      "cell_type": "markdown",
      "source": [
        "#**Organização do Código**#\n",
        "O código está estruturado em três partes principais:\n",
        "\n",
        "- Configuração e Autenticação no Telegram\n",
        "\n",
        "Obtenha o token de acesso via getpass().\n",
        "Consulte informações do bot e configure o Webhook para receber mensagens.\n",
        "Processamento e Armazenamento no AWS S3\n",
        "\n",
        "- Uma função Lambda( lambda_handler) é responsável por receber mensagens do Telegram via AWS API Gateway .\n",
        "O código verifica se a mensagem pertence ao grupo correto e salva os dados brutos em um bucket S3 no formato JSON.\n",
        "Transformação e Escrita dos Dados em Parquet\n",
        "\n",
        "- Outra função Lambda processa os arquivos JSON armazenados.\n",
        "Utilize PyArrow para converter os dados para Parquet , melhorando a eficiência de consulta.\n",
        "\n",
        "* Os dados estruturados são enviados de volta ao S3 , organizados por dados.\n",
        "Criação da Tabela no AWS Athena\n",
        "\n",
        "Define uma tabela externa de chamada telegram, armazenada no formato Parquet .\n",
        "Permite o particionamento por dados , otimizando consultas."
      ],
      "metadata": {
        "id": "p2MqdnHa9lSJ"
      }
    },
    {
      "cell_type": "code",
      "execution_count": null,
      "metadata": {
        "id": "W1ENr5No-qa5",
        "colab": {
          "base_uri": "https://localhost:8080/"
        },
        "outputId": "d5d5e5c8-f6c2-4634-cba5-d66008cb6349"
      },
      "outputs": [
        {
          "name": "stdout",
          "output_type": "stream",
          "text": [
            "··········\n"
          ]
        }
      ],
      "source": [
        "from getpass import getpass\n",
        "\n",
        "token=getpass()"
      ]
    },
    {
      "cell_type": "code",
      "source": [
        "import json\n",
        "import requests\n",
        "\n",
        "url_base = f'https://api.telegram.org/bot{token}'"
      ],
      "metadata": {
        "id": "y7_KbH4VOva6"
      },
      "execution_count": null,
      "outputs": []
    },
    {
      "cell_type": "code",
      "source": [
        "response = requests.get(url=f'{url_base}/getMe')\n",
        "print(f'{url_base}/getMe')\n",
        "\n",
        "print(json.dumps(json.loads(response.text), indent=2))"
      ],
      "metadata": {
        "colab": {
          "base_uri": "https://localhost:8080/"
        },
        "id": "FxbzMRmQOzeS",
        "outputId": "ee715982-e5cb-4716-da29-7f024842120c"
      },
      "execution_count": null,
      "outputs": [
        {
          "output_type": "stream",
          "name": "stdout",
          "text": [
            "https://api.telegram.org/bot7802121490:AAHmon5meHJunCwGTlZm3qIqXFx4E5fYStQ/getMe\n",
            "{\n",
            "  \"ok\": true,\n",
            "  \"result\": {\n",
            "    \"id\": 7802121490,\n",
            "    \"is_bot\": true,\n",
            "    \"first_name\": \"M44\",\n",
            "    \"username\": \"m44_ebac_bot\",\n",
            "    \"can_join_groups\": true,\n",
            "    \"can_read_all_group_messages\": false,\n",
            "    \"supports_inline_queries\": false,\n",
            "    \"can_connect_to_business\": false,\n",
            "    \"has_main_web_app\": false\n",
            "  }\n",
            "}\n"
          ]
        }
      ]
    },
    {
      "cell_type": "code",
      "source": [
        "response=requests.get(url=f'{url_base}/getUpdates')\n",
        "\n",
        "print(json.dumps(json.loads(response.text), indent=2))"
      ],
      "metadata": {
        "colab": {
          "base_uri": "https://localhost:8080/"
        },
        "id": "yXwCSeOWO1MQ",
        "outputId": "857a7988-cc87-44e9-e840-dc22eb861d2b"
      },
      "execution_count": null,
      "outputs": [
        {
          "output_type": "stream",
          "name": "stdout",
          "text": [
            "{\n",
            "  \"ok\": false,\n",
            "  \"error_code\": 409,\n",
            "  \"description\": \"Conflict: can't use getUpdates method while webhook is active; use deleteWebhook to delete the webhook first\"\n",
            "}\n"
          ]
        }
      ]
    },
    {
      "cell_type": "markdown",
      "source": [
        "***INGESTÃO***"
      ],
      "metadata": {
        "id": "Lpgz5hGdPFxQ"
      }
    },
    {
      "cell_type": "code",
      "source": [
        "import os\n",
        "import json\n",
        "import logging\n",
        "from datetime import datetime, timezone, timedelta\n",
        "\n",
        "import boto3\n",
        "\n",
        "def lambda_handler(event: dict, context: dict) -> dict:\n",
        " \"\"\"\n",
        " Recebe uma mensagem do Telegram via AWS API Gateway, verifica no seu conteúdo se foi produzida em um determinado grupo e a escreve, em seu formato original JSON, em um bucket do AWS S3.\n",
        " \"\"\"\n",
        "\n",
        " # Vars de ambiente\n",
        " BUCKET = os.environ['AWS_S3_BUCKET']\n",
        " TELEGRAM_CHAT_ID = int(os.environ['TELEGRAM_CHAT_ID'])\n",
        "\n",
        "# Vars lógicas\n",
        " tzinfo = timezone(offset=timedelta(hours=-3))\n",
        " date = (datetime.now(tzinfo) - timedelta(days=0)).strftime('%Y-%m-%d')\n",
        " timestamp = datetime.now(tzinfo).strftime('%Y%m%d%H%M%S%f')\n",
        "\n",
        " filename = f'{timestamp}.json'\n",
        "\n",
        "# Código principal\n",
        " client = boto3.client('s3')\n",
        "\n",
        "\n",
        " try:\n",
        "  message = json.loads(event[\"body\"])\n",
        "  chat_id = message[\"message\"][\"chat\"][\"id\"]\n",
        "\n",
        "  if chat_id == TELEGRAM_CHAT_ID:\n",
        "\n",
        "    with open(f'/tmp/{filename}', mode='w', encoding='utf8') as fp:\n",
        "      json.dump(message, fp)\n",
        "\n",
        "    client.upload_file(f'/tmp/{filename}', BUCKET, f'telegram/context_date={date}/{filename}')\n",
        "\n",
        " except Exception as exc:\n",
        "    logging.error(msg=exc)\n",
        "    return dict(statusCode=\"500\")\n",
        "\n",
        " else:\n",
        "    return dict(statusCode=\"200\")\n"
      ],
      "metadata": {
        "id": "08n-W4JBPMvK",
        "colab": {
          "base_uri": "https://localhost:8080/",
          "height": 401
        },
        "outputId": "27810ea2-a468-4674-da41-baa76a832f32"
      },
      "execution_count": null,
      "outputs": [
        {
          "output_type": "error",
          "ename": "ModuleNotFoundError",
          "evalue": "No module named 'boto3'",
          "traceback": [
            "\u001b[0;31m---------------------------------------------------------------------------\u001b[0m",
            "\u001b[0;31mModuleNotFoundError\u001b[0m                       Traceback (most recent call last)",
            "\u001b[0;32m<ipython-input-8-01ac93d42870>\u001b[0m in \u001b[0;36m<cell line: 0>\u001b[0;34m()\u001b[0m\n\u001b[1;32m      4\u001b[0m \u001b[0;32mfrom\u001b[0m \u001b[0mdatetime\u001b[0m \u001b[0;32mimport\u001b[0m \u001b[0mdatetime\u001b[0m\u001b[0;34m,\u001b[0m \u001b[0mtimezone\u001b[0m\u001b[0;34m,\u001b[0m \u001b[0mtimedelta\u001b[0m\u001b[0;34m\u001b[0m\u001b[0;34m\u001b[0m\u001b[0m\n\u001b[1;32m      5\u001b[0m \u001b[0;34m\u001b[0m\u001b[0m\n\u001b[0;32m----> 6\u001b[0;31m \u001b[0;32mimport\u001b[0m \u001b[0mboto3\u001b[0m\u001b[0;34m\u001b[0m\u001b[0;34m\u001b[0m\u001b[0m\n\u001b[0m\u001b[1;32m      7\u001b[0m \u001b[0;34m\u001b[0m\u001b[0m\n\u001b[1;32m      8\u001b[0m \u001b[0;32mdef\u001b[0m \u001b[0mlambda_handler\u001b[0m\u001b[0;34m(\u001b[0m\u001b[0mevent\u001b[0m\u001b[0;34m:\u001b[0m \u001b[0mdict\u001b[0m\u001b[0;34m,\u001b[0m \u001b[0mcontext\u001b[0m\u001b[0;34m:\u001b[0m \u001b[0mdict\u001b[0m\u001b[0;34m)\u001b[0m \u001b[0;34m->\u001b[0m \u001b[0mdict\u001b[0m\u001b[0;34m:\u001b[0m\u001b[0;34m\u001b[0m\u001b[0;34m\u001b[0m\u001b[0m\n",
            "\u001b[0;31mModuleNotFoundError\u001b[0m: No module named 'boto3'",
            "",
            "\u001b[0;31m---------------------------------------------------------------------------\u001b[0;32m\nNOTE: If your import is failing due to a missing package, you can\nmanually install dependencies using either !pip or !apt.\n\nTo view examples of installing some common dependencies, click the\n\"Open Examples\" button below.\n\u001b[0;31m---------------------------------------------------------------------------\u001b[0m\n"
          ],
          "errorDetails": {
            "actions": [
              {
                "action": "open_url",
                "actionText": "Open Examples",
                "url": "/notebooks/snippets/importing_libraries.ipynb"
              }
            ]
          }
        }
      ]
    },
    {
      "cell_type": "code",
      "source": [
        "aws_api_gateway_url = getpass()"
      ],
      "metadata": {
        "colab": {
          "base_uri": "https://localhost:8080/"
        },
        "id": "LEqIlD8GrDe9",
        "outputId": "f973bd2d-8eca-447f-baa3-19b5a76b144b"
      },
      "execution_count": null,
      "outputs": [
        {
          "name": "stdout",
          "output_type": "stream",
          "text": [
            "··········\n"
          ]
        }
      ]
    },
    {
      "cell_type": "markdown",
      "source": [
        "* setWebhook"
      ],
      "metadata": {
        "id": "rUTMM5WhDjCP"
      }
    },
    {
      "cell_type": "code",
      "source": [
        "response = requests.get(url=f'{url_base}/setWebhook?url={aws_api_gateway_url}')\n",
        "print(f'{url_base}/setWebhook?url={aws_api_gateway_url}')"
      ],
      "metadata": {
        "colab": {
          "base_uri": "https://localhost:8080/"
        },
        "id": "gg8iafH7DnMo",
        "outputId": "b8aaa649-83e9-4c36-bd5f-f31799d42118"
      },
      "execution_count": null,
      "outputs": [
        {
          "output_type": "stream",
          "name": "stdout",
          "text": [
            "https://api.telegram.org/bot7802121490:AAHmon5meHJunCwGTlZm3qIqXFx4E5fYStQ/setWebhook?url=arn:aws:lambda:sa-east-1:977099027448:function:modulo-44-ebac-raw\n"
          ]
        }
      ]
    },
    {
      "cell_type": "markdown",
      "source": [
        "* getWebhookinfo"
      ],
      "metadata": {
        "id": "7UR4Z93IDvfU"
      }
    },
    {
      "cell_type": "code",
      "source": [
        "response = requests.get(url=f'{url_base}/getWebhookInfo')\n",
        "print(f'{url_base}/getWebhookInfo')\n",
        "print(json.dumps(json.loads(response.text), indent=2))"
      ],
      "metadata": {
        "colab": {
          "base_uri": "https://localhost:8080/"
        },
        "id": "lXk4qqCZDuvf",
        "outputId": "3113b429-9c00-4287-c509-9e5e5e0dc755"
      },
      "execution_count": null,
      "outputs": [
        {
          "output_type": "stream",
          "name": "stdout",
          "text": [
            "https://api.telegram.org/bot7802121490:AAHmon5meHJunCwGTlZm3qIqXFx4E5fYStQ/getWebhookInfo\n",
            "{\n",
            "  \"ok\": true,\n",
            "  \"result\": {\n",
            "    \"url\": \"\",\n",
            "    \"has_custom_certificate\": false,\n",
            "    \"pending_update_count\": 4\n",
            "  }\n",
            "}\n"
          ]
        }
      ]
    },
    {
      "cell_type": "code",
      "source": [
        "import os\n",
        "import json\n",
        "import logging\n",
        "from datetime import datetime, timezone, timedelta\n",
        "import boto3\n",
        "import pyarrow as pa\n",
        "import pyarrow.parquet as pq\n",
        "\n",
        "def lambda_handler(event: dict, context: dict) -> bool:\n",
        " \"\"\"\n",
        " Recebe uma mensagem do Telegram via AWS API Gateway, verifica no seu conteúdo se foi produzida em um determinado grupo,\n",
        " processa os dados e os escreve em formato Parquet em um bucket do AWS S3.\n",
        " \"\"\"\n",
        "\n",
        "# Variáveis de ambiente\n",
        " RAW_BUCKET = os.environ['AWS_S3_BUCKET']\n",
        " TELEGRAM_CHAT_ID = int(os.environ['AWS_S3_ENRICHED'])\n",
        "\n",
        "# Variáveis lógicas\n",
        " tzinfo = timezone(offset=timedelta(hours=-3))\n",
        " date = (datetime.now(tzinfo) - timedelta(days=1)).strftime('%Y-%m-%d')\n",
        " timestamp = datetime.now(tzinfo).strftime('%Y%m%d%H%M%S%f')\n",
        "\n",
        "# Código principal\n",
        " client = boto3.client('s3')\n",
        " table = None\n",
        "\n",
        "try:\n",
        "# Lista objetos no bucket S3\n",
        "  response = client.list_objects_v2(Bucket=RAW_BUCKET, Prefix=f'telegram/context_date={date}')\n",
        "\n",
        "  for content in response['Contents']:\n",
        "\n",
        "    key = content['key']\n",
        "    client.download_file(RAW_BUCKET, key, f\"/tmp/{file_name}\")\n",
        "\n",
        "            # Abre o arquivo JSON e carrega os dados\n",
        "    with open(f\"/tmp/{file_name}\", mode='r', encoding='utf8') as fp:\n",
        "\n",
        "      data = json.load(fp)\n",
        "      data = data[\"message\"]\n",
        "\n",
        "# Parseia os dados\n",
        "    parsed_data = parse_data(data=data)\n",
        "    iter_table = pa.Table.from_pydict(mapping=parsed_data)\n",
        "\n",
        "# Concatena as tabelas\n",
        "    if table:\n",
        "\n",
        "     table = pa.concat_tables([table, iter_table])\n",
        "\n",
        "    else:\n",
        "\n",
        "      table = iter_table\n",
        "      iter_table = None\n",
        "\n",
        "  pq.write_table(table=table, where=parquet_file)\n",
        "  client.upload_file(parquet_file, RAW_BUCKET, f'telegram/context_date={date}/{timestamp}.parquet')\n"
      ],
      "metadata": {
        "id": "_KCj3l6EX19W"
      },
      "execution_count": null,
      "outputs": []
    },
    {
      "cell_type": "code",
      "source": [
        "def parse_data(data: dict) -> dict:\n",
        "\n",
        " date = datetime.now().strftime('%Y-%m-%d')\n",
        " timestamp = datetime.now().strftime('%Y%m%d%H%M%S%f')\n",
        "\n",
        "\n",
        " parsed_data = dict()\n",
        "\n",
        " for key, value in data.items():\n",
        "\n",
        "   if key == 'from':\n",
        "      for k, v in data[key].items():\n",
        "          if k in ['is_bot', 'first_name']:\n",
        "            parsed_data[f\"user_{k}\"] = v\n",
        "\n",
        "   elif key == 'chat':\n",
        "      for k, v in data[key].items():\n",
        "          if k in ['id', 'type']:\n",
        "            parsed_data[f\"chat_{k}\"] = v\n",
        "\n",
        "   elif key in ['message_id', 'date', 'text']:\n",
        "      parsed_data[key] = [value]\n",
        "\n",
        " if 'text' not in parsed_data.keys():\n",
        "   parsed_data['text'] = [None]\n",
        "\n",
        " return parsed_data"
      ],
      "metadata": {
        "id": "r_607ADkxcKA"
      },
      "execution_count": null,
      "outputs": []
    },
    {
      "cell_type": "markdown",
      "source": [
        "* AWS Athena"
      ],
      "metadata": {
        "id": "4ApwbsIlXx7f"
      }
    },
    {
      "cell_type": "code",
      "source": [
        "CREATE EXTERNAL TABLE `telegram` (\n",
        "    `message_id` BIGINT,\n",
        "    `user_id` BIGINT,\n",
        "    `user_is_bot` BOOLEAN,\n",
        "    `user_first_name` STRING,\n",
        "    `chat_id` BIGINT,\n",
        "    `chat_type` STRING,\n",
        "    `text` STRING,\n",
        "    `date` BIGINT\n",
        ")\n",
        "PARTITIONED BY (`context_date` DATE)\n",
        "STORED AS PARQUET\n",
        "LOCATION 's3://modulo-44-ebac-raw/telegram/'\n",
        "TBLPROPERTIES (\n",
        "    'parquet.compression'='SNAPPY'\n",
        ");\n"
      ],
      "metadata": {
        "id": "ekgpMMuhXwO_"
      },
      "execution_count": null,
      "outputs": []
    },
    {
      "cell_type": "code",
      "source": [
        "MSCK REPAIR TABLE `telegram`;"
      ],
      "metadata": {
        "id": "bSRSz4hSZXXJ"
      },
      "execution_count": null,
      "outputs": []
    },
    {
      "cell_type": "markdown",
      "source": [
        "##**INSIGHTS**##\n",
        "\n",
        "- Este código cria um pipeline eficiente para capturar mensagens do Telegram, armazená-las na nuvem e disponibilizá-las para análise no AWS Athena . Ele demonstra boas práticas de ETL (Extract, Transform, Load) , utilizando ferramentas modernas para manipulação de dados de forma escalável. Essa abordagem pode ser aplicada a diversos casos, como monitoramento de grupos, análise de padrões e integração com sistemas de BI."
      ],
      "metadata": {
        "id": "MI9yIQX69LDg"
      }
    }
  ]
}