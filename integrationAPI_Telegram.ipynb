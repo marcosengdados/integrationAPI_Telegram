{
  "nbformat": 4,
  "nbformat_minor": 0,
  "metadata": {
    "colab": {
      "provenance": []
    },
    "kernelspec": {
      "name": "python3",
      "display_name": "Python 3"
    },
    "language_info": {
      "name": "python"
    }
  },
  "cells": [
    {
      "cell_type": "markdown",
      "source": [
        "**Bot API**"
      ],
      "metadata": {
        "id": "YjVengEg4CIc"
      }
    },
    {
      "cell_type": "code",
      "execution_count": 1,
      "metadata": {
        "id": "W1ENr5No-qa5",
        "colab": {
          "base_uri": "https://localhost:8080/"
        },
        "outputId": "ac44765e-a174-4fe8-83dc-25911ed9f0fe"
      },
      "outputs": [
        {
          "name": "stdout",
          "output_type": "stream",
          "text": [
            "··········\n"
          ]
        }
      ],
      "source": [
        "from getpass import getpass\n",
        "\n",
        "token=getpass()"
      ]
    },
    {
      "cell_type": "markdown",
      "source": [
        "*Url base para a API*"
      ],
      "metadata": {
        "id": "KAE72RIK5MSG"
      }
    },
    {
      "cell_type": "code",
      "source": [
        "import json\n",
        "import requests\n",
        "\n",
        "url_base = f'https://api.telegram.org/bot{token}'"
      ],
      "metadata": {
        "id": "DLliWljk4b-N"
      },
      "execution_count": 2,
      "outputs": []
    },
    {
      "cell_type": "markdown",
      "source": [
        "* O método getMe retorna informações sobre o bot   "
      ],
      "metadata": {
        "id": "UqFgl6Ut5iZ0"
      }
    },
    {
      "cell_type": "code",
      "source": [
        "response = requests.get(url=f'{url_base}/getMe')\n",
        "print(f'{url_base}/getMe')\n",
        "\n",
        "print(json.dumps(json.loads(response.text), indent=2))"
      ],
      "metadata": {
        "colab": {
          "base_uri": "https://localhost:8080/"
        },
        "id": "HfAY0Otb5vhG",
        "outputId": "447b78a6-1343-47be-c486-821387aa70ea"
      },
      "execution_count": 3,
      "outputs": [
        {
          "output_type": "stream",
          "name": "stdout",
          "text": [
            "https://api.telegram.org/bot7802121490:AAHmon5meHJunCwGTlZm3qIqXFx4E5fYStQ/getMe\n",
            "{\n",
            "  \"ok\": true,\n",
            "  \"result\": {\n",
            "    \"id\": 7802121490,\n",
            "    \"is_bot\": true,\n",
            "    \"first_name\": \"M44\",\n",
            "    \"username\": \"m44_ebac_bot\",\n",
            "    \"can_join_groups\": false,\n",
            "    \"can_read_all_group_messages\": false,\n",
            "    \"supports_inline_queries\": false,\n",
            "    \"can_connect_to_business\": false,\n",
            "    \"has_main_web_app\": false\n",
            "  }\n",
            "}\n"
          ]
        }
      ]
    },
    {
      "cell_type": "markdown",
      "source": [
        "* O método getUpdates retorna assim como o getMe as mensagens captadas pelo bot."
      ],
      "metadata": {
        "id": "EkhygsLw972j"
      }
    },
    {
      "cell_type": "code",
      "source": [
        "response=requests.get(url=f'{url_base}/getUpdates')\n",
        "\n",
        "print(json.dumps(json.loads(response.text), indent=2))"
      ],
      "metadata": {
        "colab": {
          "base_uri": "https://localhost:8080/"
        },
        "id": "VgsSaa8_7oXS",
        "outputId": "b2af9e3e-ef2e-42e1-9612-f284eed7e0ca"
      },
      "execution_count": 4,
      "outputs": [
        {
          "output_type": "stream",
          "name": "stdout",
          "text": [
            "{\n",
            "  \"ok\": true,\n",
            "  \"result\": [\n",
            "    {\n",
            "      \"update_id\": 777560407,\n",
            "      \"message\": {\n",
            "        \"message_id\": 40,\n",
            "        \"from\": {\n",
            "          \"id\": 7737042665,\n",
            "          \"is_bot\": false,\n",
            "          \"first_name\": \"Marcos\",\n",
            "          \"last_name\": \"Lima\",\n",
            "          \"language_code\": \"pt-br\"\n",
            "        },\n",
            "        \"chat\": {\n",
            "          \"id\": -4708080081,\n",
            "          \"title\": \"M44 ebac\",\n",
            "          \"type\": \"group\",\n",
            "          \"all_members_are_administrators\": true\n",
            "        },\n",
            "        \"date\": 1740067278,\n",
            "        \"text\": \"/START\",\n",
            "        \"entities\": [\n",
            "          {\n",
            "            \"offset\": 0,\n",
            "            \"length\": 6,\n",
            "            \"type\": \"bot_command\"\n",
            "          }\n",
            "        ]\n",
            "      }\n",
            "    },\n",
            "    {\n",
            "      \"update_id\": 777560408,\n",
            "      \"message\": {\n",
            "        \"message_id\": 41,\n",
            "        \"from\": {\n",
            "          \"id\": 7737042665,\n",
            "          \"is_bot\": false,\n",
            "          \"first_name\": \"Marcos\",\n",
            "          \"last_name\": \"Lima\",\n",
            "          \"language_code\": \"pt-br\"\n",
            "        },\n",
            "        \"chat\": {\n",
            "          \"id\": -4708080081,\n",
            "          \"title\": \"M44 ebac\",\n",
            "          \"type\": \"group\",\n",
            "          \"all_members_are_administrators\": true\n",
            "        },\n",
            "        \"date\": 1740067288,\n",
            "        \"photo\": [\n",
            "          {\n",
            "            \"file_id\": \"AgACAgEAAxkBAAMpZ7dR2L2huV2QwQnFAAHapjtFwRTKAAISrjEbhB25Re-aIbrwuaO9AQADAgADcwADNgQ\",\n",
            "            \"file_unique_id\": \"AQADEq4xG4QduUV4\",\n",
            "            \"file_size\": 1529,\n",
            "            \"width\": 90,\n",
            "            \"height\": 90\n",
            "          },\n",
            "          {\n",
            "            \"file_id\": \"AgACAgEAAxkBAAMpZ7dR2L2huV2QwQnFAAHapjtFwRTKAAISrjEbhB25Re-aIbrwuaO9AQADAgADbQADNgQ\",\n",
            "            \"file_unique_id\": \"AQADEq4xG4QduUVy\",\n",
            "            \"file_size\": 20803,\n",
            "            \"width\": 320,\n",
            "            \"height\": 320\n",
            "          },\n",
            "          {\n",
            "            \"file_id\": \"AgACAgEAAxkBAAMpZ7dR2L2huV2QwQnFAAHapjtFwRTKAAISrjEbhB25Re-aIbrwuaO9AQADAgADeAADNgQ\",\n",
            "            \"file_unique_id\": \"AQADEq4xG4QduUV9\",\n",
            "            \"file_size\": 77960,\n",
            "            \"width\": 800,\n",
            "            \"height\": 800\n",
            "          },\n",
            "          {\n",
            "            \"file_id\": \"AgACAgEAAxkBAAMpZ7dR2L2huV2QwQnFAAHapjtFwRTKAAISrjEbhB25Re-aIbrwuaO9AQADAgADeQADNgQ\",\n",
            "            \"file_unique_id\": \"AQADEq4xG4QduUV-\",\n",
            "            \"file_size\": 98548,\n",
            "            \"width\": 1080,\n",
            "            \"height\": 1080\n",
            "          }\n",
            "        ]\n",
            "      }\n",
            "    },\n",
            "    {\n",
            "      \"update_id\": 777560409,\n",
            "      \"message\": {\n",
            "        \"message_id\": 42,\n",
            "        \"from\": {\n",
            "          \"id\": 7737042665,\n",
            "          \"is_bot\": false,\n",
            "          \"first_name\": \"Marcos\",\n",
            "          \"last_name\": \"Lima\",\n",
            "          \"language_code\": \"pt-br\"\n",
            "        },\n",
            "        \"chat\": {\n",
            "          \"id\": -4708080081,\n",
            "          \"title\": \"M44 ebac\",\n",
            "          \"type\": \"group\",\n",
            "          \"all_members_are_administrators\": true\n",
            "        },\n",
            "        \"date\": 1740067295,\n",
            "        \"text\": \"VAmmos\"\n",
            "      }\n",
            "    },\n",
            "    {\n",
            "      \"update_id\": 777560410,\n",
            "      \"message\": {\n",
            "        \"message_id\": 43,\n",
            "        \"from\": {\n",
            "          \"id\": 7737042665,\n",
            "          \"is_bot\": false,\n",
            "          \"first_name\": \"Marcos\",\n",
            "          \"last_name\": \"Lima\",\n",
            "          \"language_code\": \"pt-br\"\n",
            "        },\n",
            "        \"chat\": {\n",
            "          \"id\": -4708080081,\n",
            "          \"title\": \"M44 ebac\",\n",
            "          \"type\": \"group\",\n",
            "          \"all_members_are_administrators\": true\n",
            "        },\n",
            "        \"date\": 1740067310,\n",
            "        \"text\": \"\\ud83d\\ude14\\ud83d\\ude48\"\n",
            "      }\n",
            "    },\n",
            "    {\n",
            "      \"update_id\": 777560411,\n",
            "      \"message\": {\n",
            "        \"message_id\": 44,\n",
            "        \"from\": {\n",
            "          \"id\": 7737042665,\n",
            "          \"is_bot\": false,\n",
            "          \"first_name\": \"Marcos\",\n",
            "          \"last_name\": \"Lima\",\n",
            "          \"language_code\": \"pt-br\"\n",
            "        },\n",
            "        \"chat\": {\n",
            "          \"id\": -4708080081,\n",
            "          \"title\": \"M44 ebac\",\n",
            "          \"type\": \"group\",\n",
            "          \"all_members_are_administrators\": true\n",
            "        },\n",
            "        \"date\": 1740102064,\n",
            "        \"text\": \"sei que hoje as mensagens\"\n",
            "      }\n",
            "    },\n",
            "    {\n",
            "      \"update_id\": 777560412,\n",
            "      \"message\": {\n",
            "        \"message_id\": 45,\n",
            "        \"from\": {\n",
            "          \"id\": 7737042665,\n",
            "          \"is_bot\": false,\n",
            "          \"first_name\": \"Marcos\",\n",
            "          \"last_name\": \"Lima\",\n",
            "          \"language_code\": \"pt-br\"\n",
            "        },\n",
            "        \"chat\": {\n",
            "          \"id\": -4708080081,\n",
            "          \"title\": \"M44 ebac\",\n",
            "          \"type\": \"group\",\n",
            "          \"all_members_are_administrators\": true\n",
            "        },\n",
            "        \"date\": 1740102081,\n",
            "        \"photo\": [\n",
            "          {\n",
            "            \"file_id\": \"AgACAgEAAxkBAAMtZ7fZwa6EIWonefyEPvOjilMb4F8AAt-tMRvm68FFLYj8RH5-uGwBAAMCAANzAAM2BA\",\n",
            "            \"file_unique_id\": \"AQAD360xG-brwUV4\",\n",
            "            \"file_size\": 1618,\n",
            "            \"width\": 90,\n",
            "            \"height\": 90\n",
            "          },\n",
            "          {\n",
            "            \"file_id\": \"AgACAgEAAxkBAAMtZ7fZwa6EIWonefyEPvOjilMb4F8AAt-tMRvm68FFLYj8RH5-uGwBAAMCAANtAAM2BA\",\n",
            "            \"file_unique_id\": \"AQAD360xG-brwUVy\",\n",
            "            \"file_size\": 16751,\n",
            "            \"width\": 320,\n",
            "            \"height\": 320\n",
            "          },\n",
            "          {\n",
            "            \"file_id\": \"AgACAgEAAxkBAAMtZ7fZwa6EIWonefyEPvOjilMb4F8AAt-tMRvm68FFLYj8RH5-uGwBAAMCAAN4AAM2BA\",\n",
            "            \"file_unique_id\": \"AQAD360xG-brwUV9\",\n",
            "            \"file_size\": 21771,\n",
            "            \"width\": 500,\n",
            "            \"height\": 500\n",
            "          }\n",
            "        ]\n",
            "      }\n",
            "    }\n",
            "  ]\n",
            "}\n"
          ]
        }
      ]
    }
  ]
}